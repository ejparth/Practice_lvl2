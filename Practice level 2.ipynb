{
 "cells": [
  {
   "cell_type": "markdown",
   "id": "bc35bc26",
   "metadata": {},
   "source": [
    "#### Find maximum and mininmum from the list of numbers"
   ]
  },
  {
   "cell_type": "code",
   "execution_count": 3,
   "id": "02109037",
   "metadata": {},
   "outputs": [
    {
     "name": "stdout",
     "output_type": "stream",
     "text": [
      "334 1\n"
     ]
    }
   ],
   "source": [
    "A = [23,12,85,23,323,1,334,3]\n",
    "\n",
    "min =10000000\n",
    "max = 0\n",
    "\n",
    "for i in range(len(A)):\n",
    "    if  A[i] < min:\n",
    "        min = A[i]\n",
    "    if  A[i] > max:\n",
    "        max = A[i]\n",
    "print(max,min)\n"
   ]
  },
  {
   "cell_type": "markdown",
   "id": "b94004c0",
   "metadata": {},
   "source": [
    "#### To check whether a number is a palindrome or not"
   ]
  },
  {
   "cell_type": "code",
   "execution_count": 48,
   "id": "7ed3c824",
   "metadata": {},
   "outputs": [
    {
     "name": "stdout",
     "output_type": "stream",
     "text": [
      "Enter a word RotaVator\n",
      "Palindrome\n"
     ]
    }
   ],
   "source": [
    "import math\n",
    "input_word = input('Enter a word ')\n",
    "\n",
    "word = (input_word).lower()\n",
    "\n",
    "full = len(word)\n",
    "full_length_range = range(len(word))\n",
    "half_range = int(len(word)/2)\n",
    "\n",
    "for i in range(0, half_range):\n",
    "    \n",
    "    if word[i] != word[full-i-1]:\n",
    "        print(\"Not a palindrome\")\n",
    "        break\n",
    "    else:\n",
    "        print(\"It is a Palindrome\")\n",
    "        break\n",
    "    \n",
    "       \n",
    "        "
   ]
  },
  {
   "cell_type": "markdown",
   "id": "4504d024",
   "metadata": {},
   "source": [
    "#### Write a program that converts a given days in years, weeks and months"
   ]
  },
  {
   "cell_type": "code",
   "execution_count": 60,
   "id": "75716944",
   "metadata": {},
   "outputs": [
    {
     "name": "stdout",
     "output_type": "stream",
     "text": [
      "Enter the number of days: 655\n",
      "For 655 days we got 1.79 year, 93.6 weeks, 54.6 months\n"
     ]
    }
   ],
   "source": [
    "days = int(input(\"Enter the number of days: \"))\n",
    "\n",
    "year = round(float(days/365), 2)\n",
    "weeks = round(float(days/7),1)\n",
    "months = round(float(days/12),1)\n",
    "\n",
    "print(\"For {} days we got {} year, {} weeks, {} months\".format(days,year,weeks, months))"
   ]
  },
  {
   "cell_type": "markdown",
   "id": "d550a546",
   "metadata": {},
   "source": [
    "#### Write a program that reverses a given string"
   ]
  },
  {
   "cell_type": "code",
   "execution_count": 80,
   "id": "701e33dc",
   "metadata": {},
   "outputs": [
    {
     "name": "stdout",
     "output_type": "stream",
     "text": [
      "Enter a string : king\n",
      "gnik\n"
     ]
    }
   ],
   "source": [
    "string = input(\"Enter a string : \")\n",
    "\n",
    "A = []\n",
    "\n",
    "full = len(string)\n",
    "\n",
    "for i in range(0, len(string)):\n",
    "    A.append(string[full-i-1])\n",
    "\n",
    "print((''.join(A)))\n",
    "    \n",
    "\n"
   ]
  },
  {
   "cell_type": "markdown",
   "id": "782ad4e8",
   "metadata": {},
   "source": [
    "\n",
    "search in input one by one:\n",
    "    match with alphabet list:\n",
    "        input karta hun new list mein checking it must not be in list:\n",
    "            len if 26 then panagram"
   ]
  },
  {
   "cell_type": "code",
   "execution_count": 115,
   "id": "e88e798c",
   "metadata": {},
   "outputs": [
    {
     "name": "stdout",
     "output_type": "stream",
     "text": [
      "Enter a string : ass\n",
      "present in panagram\n",
      "present in panagram\n",
      "present in panagram\n"
     ]
    }
   ],
   "source": [
    "\n",
    "\n",
    "alphabets = ['a', 'b', 'c', 'd', 'e', 'f', 'g', 'h', 'i', 'j', 'k', 'l', 'm', 'n', 'o', 'p', 'q', 'r', 's', 't', 'u', 'v', 'w', 'x', 'y', 'z']          \n",
    "match = []            \n",
    "\n",
    "string = input(\"Enter a string : \").lower().strip()\n",
    "\n",
    "for i in range(len(string)):\n",
    "    if string[i] not in alphabets:\n",
    "      \n",
    "    \n",
    "        \n",
    "\n",
    "\n",
    "            \n",
    "\n",
    "                \n",
    "    "
   ]
  },
  {
   "cell_type": "code",
   "execution_count": null,
   "id": "ed056aca",
   "metadata": {},
   "outputs": [],
   "source": []
  },
  {
   "cell_type": "code",
   "execution_count": null,
   "id": "53485887",
   "metadata": {},
   "outputs": [],
   "source": []
  }
 ],
 "metadata": {
  "kernelspec": {
   "display_name": "Python 3 (ipykernel)",
   "language": "python",
   "name": "python3"
  },
  "language_info": {
   "codemirror_mode": {
    "name": "ipython",
    "version": 3
   },
   "file_extension": ".py",
   "mimetype": "text/x-python",
   "name": "python",
   "nbconvert_exporter": "python",
   "pygments_lexer": "ipython3",
   "version": "3.9.12"
  }
 },
 "nbformat": 4,
 "nbformat_minor": 5
}
